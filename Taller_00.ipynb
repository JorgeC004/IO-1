{
  "nbformat": 4,
  "nbformat_minor": 0,
  "metadata": {
    "colab": {
      "provenance": [],
      "authorship_tag": "ABX9TyNd/d95P68Vg26FUj3fYobN",
      "include_colab_link": true
    },
    "kernelspec": {
      "name": "python3",
      "display_name": "Python 3"
    },
    "language_info": {
      "name": "python"
    }
  },
  "cells": [
    {
      "cell_type": "markdown",
      "metadata": {
        "id": "view-in-github",
        "colab_type": "text"
      },
      "source": [
        "<a href=\"https://colab.research.google.com/github/JorgeC004/IO-1/blob/main/Taller_00.ipynb\" target=\"_parent\"><img src=\"https://colab.research.google.com/assets/colab-badge.svg\" alt=\"Open In Colab\"/></a>"
      ]
    },
    {
      "cell_type": "markdown",
      "source": [
        "# 1 # para título\n"
      ],
      "metadata": {
        "id": "EnG7FAWxyMzR"
      }
    },
    {
      "cell_type": "markdown",
      "source": [
        "## 2 # para subtitulo\n",
        "\n"
      ],
      "metadata": {
        "id": "plwD2VSPyb1C"
      }
    },
    {
      "cell_type": "code",
      "execution_count": 2,
      "metadata": {
        "id": "aAdpZqXhvq2g",
        "colab": {
          "base_uri": "https://localhost:8080/"
        },
        "outputId": "80577f2f-f06b-4023-e7a1-40e8db89803a"
      },
      "outputs": [
        {
          "output_type": "stream",
          "name": "stdout",
          "text": [
            "Hola, mundo\n"
          ]
        }
      ],
      "source": [
        "print(\"Hola, mundo\")\n"
      ]
    }
  ]
}